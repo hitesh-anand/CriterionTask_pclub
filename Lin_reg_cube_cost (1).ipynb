{
  "nbformat": 4,
  "nbformat_minor": 0,
  "metadata": {
    "colab": {
      "name": "Lin_reg_cube_cost.ipynb",
      "provenance": []
    },
    "kernelspec": {
      "name": "python3",
      "display_name": "Python 3"
    },
    "language_info": {
      "name": "python"
    }
  },
  "cells": [
    {
      "cell_type": "code",
      "metadata": {
        "id": "exxpumKLRiH1"
      },
      "source": [
        "import numpy as np\n",
        "import matplotlib.pyplot as plt\n",
        "import pandas as pd"
      ],
      "execution_count": 1,
      "outputs": []
    },
    {
      "cell_type": "code",
      "metadata": {
        "id": "VM11f-XDSO4Y"
      },
      "source": [
        "dataset = pd.read_csv('Salary_Data.csv')\n",
        "X = dataset.iloc[:,:-1].values\n",
        "Y = dataset.iloc[:,-1].values"
      ],
      "execution_count": 108,
      "outputs": []
    },
    {
      "cell_type": "code",
      "metadata": {
        "colab": {
          "base_uri": "https://localhost:8080/"
        },
        "id": "-NjhAZROSQaR",
        "outputId": "e4c553c8-7c31-4faa-cdd6-1b28d45b79c7"
      },
      "source": [
        "X.shape"
      ],
      "execution_count": 109,
      "outputs": [
        {
          "output_type": "execute_result",
          "data": {
            "text/plain": [
              "(30, 1)"
            ]
          },
          "metadata": {
            "tags": []
          },
          "execution_count": 109
        }
      ]
    },
    {
      "cell_type": "code",
      "metadata": {
        "id": "F-eDqDFbSm07"
      },
      "source": [
        "X = X.reshape(X.shape[1],X.shape[0])"
      ],
      "execution_count": 110,
      "outputs": []
    },
    {
      "cell_type": "code",
      "metadata": {
        "colab": {
          "base_uri": "https://localhost:8080/"
        },
        "id": "ng6pqvXQSrsd",
        "outputId": "e51104f2-3b9b-4789-f129-d09738698f73"
      },
      "source": [
        "X.shape"
      ],
      "execution_count": 111,
      "outputs": [
        {
          "output_type": "execute_result",
          "data": {
            "text/plain": [
              "(1, 30)"
            ]
          },
          "metadata": {
            "tags": []
          },
          "execution_count": 111
        }
      ]
    },
    {
      "cell_type": "code",
      "metadata": {
        "colab": {
          "base_uri": "https://localhost:8080/"
        },
        "id": "aPSwhumnScD_",
        "outputId": "2a11d68c-77b6-49cd-c60d-cc3aeec38772"
      },
      "source": [
        "Y.shape"
      ],
      "execution_count": 112,
      "outputs": [
        {
          "output_type": "execute_result",
          "data": {
            "text/plain": [
              "(30,)"
            ]
          },
          "metadata": {
            "tags": []
          },
          "execution_count": 112
        }
      ]
    },
    {
      "cell_type": "code",
      "metadata": {
        "colab": {
          "base_uri": "https://localhost:8080/"
        },
        "id": "svTZoG61SgFy",
        "outputId": "253ecd5c-f92c-4d2f-fa86-a1f6ebc0a8c2"
      },
      "source": [
        "Y = Y.reshape(1,Y.shape[0])\n",
        "Y.shape"
      ],
      "execution_count": 113,
      "outputs": [
        {
          "output_type": "execute_result",
          "data": {
            "text/plain": [
              "(1, 30)"
            ]
          },
          "metadata": {
            "tags": []
          },
          "execution_count": 113
        }
      ]
    },
    {
      "cell_type": "code",
      "metadata": {
        "colab": {
          "base_uri": "https://localhost:8080/"
        },
        "id": "_3HIq9KUkbS3",
        "outputId": "688251d7-095c-4f0f-b610-c5b285c03126"
      },
      "source": [
        "X"
      ],
      "execution_count": 114,
      "outputs": [
        {
          "output_type": "execute_result",
          "data": {
            "text/plain": [
              "array([[ 1.1,  1.3,  1.5,  2. ,  2.2,  2.9,  3. ,  3.2,  3.2,  3.7,  3.9,\n",
              "         4. ,  4. ,  4.1,  4.5,  4.9,  5.1,  5.3,  5.9,  6. ,  6.8,  7.1,\n",
              "         7.9,  8.2,  8.7,  9. ,  9.5,  9.6, 10.3, 10.5]])"
            ]
          },
          "metadata": {
            "tags": []
          },
          "execution_count": 114
        }
      ]
    },
    {
      "cell_type": "code",
      "metadata": {
        "colab": {
          "base_uri": "https://localhost:8080/"
        },
        "id": "Qt74wPaHkzMa",
        "outputId": "c2590061-8848-401c-d30b-467f5b34b882"
      },
      "source": [
        "Y\n"
      ],
      "execution_count": 115,
      "outputs": [
        {
          "output_type": "execute_result",
          "data": {
            "text/plain": [
              "array([[ 39343.,  46205.,  37731.,  43525.,  39891.,  56642.,  60150.,\n",
              "         54445.,  64445.,  57189.,  63218.,  55794.,  56957.,  57081.,\n",
              "         61111.,  67938.,  66029.,  83088.,  81363.,  93940.,  91738.,\n",
              "         98273., 101302., 113812., 109431., 105582., 116969., 112635.,\n",
              "        122391., 121872.]])"
            ]
          },
          "metadata": {
            "tags": []
          },
          "execution_count": 115
        }
      ]
    },
    {
      "cell_type": "code",
      "metadata": {
        "id": "ByFPsgH-lWYj"
      },
      "source": [
        "train_size = 0.8\n",
        "X_train = X[:,:int(0.8*X.shape[1])]\n",
        "X_test = X[:,int(0.8*X.shape[1]):]\n",
        "Y_train = Y[:,:int(0.8*Y.shape[1])]\n",
        "Y_test = Y[:,int(0.8*Y.shape[1]):]"
      ],
      "execution_count": 116,
      "outputs": []
    },
    {
      "cell_type": "code",
      "metadata": {
        "id": "_l-hsuL4aXmy"
      },
      "source": [
        "X_den = np.std(X_train)-np.mean(X_train)\n",
        "X_add = np.mean(X_train)\n",
        "Y_den = np.std(Y_train)-np.mean(Y_train)\n",
        "Y_add = np.mean(Y_train)\n",
        "inverse_cache = (X_den, X_add, Y_den, Y_add)\n"
      ],
      "execution_count": 117,
      "outputs": []
    },
    {
      "cell_type": "code",
      "metadata": {
        "id": "dBM75ADqStqi"
      },
      "source": [
        "X_train = (X_train-X_add)/X_den\n",
        "X_test =  (X_test-X_add)/X_den"
      ],
      "execution_count": 118,
      "outputs": []
    },
    {
      "cell_type": "code",
      "metadata": {
        "colab": {
          "base_uri": "https://localhost:8080/"
        },
        "id": "1vDJU5DWSvCc",
        "outputId": "99a96b60-d751-4030-af86-1093f6dd7f1e"
      },
      "source": [
        "Y"
      ],
      "execution_count": 119,
      "outputs": [
        {
          "output_type": "execute_result",
          "data": {
            "text/plain": [
              "array([[ 39343.,  46205.,  37731.,  43525.,  39891.,  56642.,  60150.,\n",
              "         54445.,  64445.,  57189.,  63218.,  55794.,  56957.,  57081.,\n",
              "         61111.,  67938.,  66029.,  83088.,  81363.,  93940.,  91738.,\n",
              "         98273., 101302., 113812., 109431., 105582., 116969., 112635.,\n",
              "        122391., 121872.]])"
            ]
          },
          "metadata": {
            "tags": []
          },
          "execution_count": 119
        }
      ]
    },
    {
      "cell_type": "code",
      "metadata": {
        "colab": {
          "base_uri": "https://localhost:8080/"
        },
        "id": "UQN6_3SqXYmg",
        "outputId": "5d4e4c1f-edc1-4ed6-ab1c-c4e3277b6944"
      },
      "source": [
        "Y_train = (Y_train-Y_add)/Y_den\n",
        "Y_test = (Y_test-Y_add)/Y_den\n",
        "Y_train"
      ],
      "execution_count": 120,
      "outputs": [
        {
          "output_type": "execute_result",
          "data": {
            "text/plain": [
              "array([[ 0.59095174,  0.44052521,  0.62628949,  0.4992753 ,  0.57893867,\n",
              "         0.21172868,  0.13482744,  0.2598906 ,  0.04067384,  0.19973752,\n",
              "         0.06757174,  0.23031826,  0.20482335,  0.20210506,  0.11376071,\n",
              "        -0.03589857,  0.00594991, -0.36801196, -0.33019707, -0.60590598,\n",
              "        -0.55763445, -0.7008926 , -0.76729336, -1.04153352]])"
            ]
          },
          "metadata": {
            "tags": []
          },
          "execution_count": 120
        }
      ]
    },
    {
      "cell_type": "code",
      "metadata": {
        "colab": {
          "base_uri": "https://localhost:8080/"
        },
        "id": "zkjb2vN1SimK",
        "outputId": "bdefd97b-c852-4d7e-9169-719a97b42916"
      },
      "source": [
        "print(X_train.shape)\n",
        "print(X_test.shape)\n",
        "print(Y_train.shape)\n",
        "print(Y_test.shape)"
      ],
      "execution_count": 121,
      "outputs": [
        {
          "output_type": "stream",
          "text": [
            "(1, 24)\n",
            "(1, 6)\n",
            "(1, 24)\n",
            "(1, 6)\n"
          ],
          "name": "stdout"
        }
      ]
    },
    {
      "cell_type": "code",
      "metadata": {
        "id": "WjjBkf7HTt7j"
      },
      "source": [
        "def forward_prop(X, params):\n",
        "    W = params['W']\n",
        "    b = params['b']\n",
        "    \n",
        "    Z = np.dot(W.T,X) + b\n",
        "    return Z"
      ],
      "execution_count": 204,
      "outputs": []
    },
    {
      "cell_type": "code",
      "metadata": {
        "id": "PI_Ajx73T2zz"
      },
      "source": [
        "def backward_prop(X,Y, Z):\n",
        "    m = Y.shape[1]\n",
        "    dZ = Z-Y\n",
        "    dW = np.dot(dZ,X.T)/m\n",
        "    db = np.sum(dZ)/m\n",
        "    \n",
        "    grads = {}\n",
        "    grads['dW'] = dW\n",
        "    grads['db'] = db\n",
        "    \n",
        "    return grads"
      ],
      "execution_count": 205,
      "outputs": []
    },
    {
      "cell_type": "code",
      "metadata": {
        "id": "itc8IiStT42j"
      },
      "source": [
        "def compute_cost(Y,Z):\n",
        "    m = Y.shape[1]\n",
        "    cost = np.sum(np.power(np.abs(Z-Y),3))/(2*m)\n",
        "    return cost"
      ],
      "execution_count": 231,
      "outputs": []
    },
    {
      "cell_type": "code",
      "metadata": {
        "id": "b6aalZjpWTzT"
      },
      "source": [
        "def update_parameters(params, grads, alpha):\n",
        "    dW = grads['dW']\n",
        "    db = grads['db']\n",
        "    W = params['W']\n",
        "    b = params['b']\n",
        "    W = W - alpha * dW\n",
        "    b = b - alpha * db\n",
        "    params['W'] = W\n",
        "    params['b'] = b\n",
        "    \n",
        "    return params"
      ],
      "execution_count": 232,
      "outputs": []
    },
    {
      "cell_type": "code",
      "metadata": {
        "id": "9VpVws7WWYPb"
      },
      "source": [
        "def initialize_params(x, y):\n",
        "    n_x = x.shape[0]\n",
        "#     print(\"n_x = \", n_x)\n",
        "    m = y.shape[1]\n",
        "    W = np.random.randn(n_x,1)\n",
        "    b = 0.\n",
        "    params = {}\n",
        "    params['W'] = W\n",
        "    params['b'] = b\n",
        "    \n",
        "    return params"
      ],
      "execution_count": 233,
      "outputs": []
    },
    {
      "cell_type": "code",
      "metadata": {
        "id": "TideJtYTWbnE"
      },
      "source": [
        "def train(X,Y,num_iter=1000, alpha=0.01):\n",
        "    params = initialize_params(X,Y)\n",
        "    costs = []\n",
        "    for i in range(num_iter):\n",
        "        \n",
        "       \n",
        "        y_hat = forward_prop(X, params)\n",
        "        cost = compute_cost(Y, y_hat)\n",
        "        costs.append(cost)\n",
        "        grads = backward_prop(X,Y, y_hat)\n",
        "        if(i%200==0):\n",
        "            print(cost)\n",
        "        params = update_parameters(params, grads, alpha)\n",
        "    return params,costs"
      ],
      "execution_count": 234,
      "outputs": []
    },
    {
      "cell_type": "code",
      "metadata": {
        "colab": {
          "base_uri": "https://localhost:8080/"
        },
        "id": "vVr7zMlXWh17",
        "outputId": "e9145b5c-3ad2-48df-ebba-e4aef90afd4b"
      },
      "source": [
        "params = {}\n",
        "params,costs = train(X_train, Y_train, 2000, 0.01)\n",
        "params"
      ],
      "execution_count": 235,
      "outputs": [
        {
          "output_type": "stream",
          "text": [
            "2.3583096815471754\n",
            "0.03172858417256997\n",
            "0.0022408925947292745\n",
            "0.001466895924210443\n",
            "0.0014315206494942105\n",
            "0.0014296508643243382\n",
            "0.0014295248015492694\n",
            "0.0014295108912991527\n",
            "0.0014295084997952903\n",
            "0.0014295080057795003\n"
          ],
          "name": "stdout"
        },
        {
          "output_type": "execute_result",
          "data": {
            "text/plain": [
              "{'W': array([[0.50034366]]), 'b': 1.0061396160665399e-17}"
            ]
          },
          "metadata": {
            "tags": []
          },
          "execution_count": 235
        }
      ]
    },
    {
      "cell_type": "code",
      "metadata": {
        "colab": {
          "base_uri": "https://localhost:8080/",
          "height": 281
        },
        "id": "V2kKZKTubITw",
        "outputId": "c4fc2f5c-2a20-4f09-ccdb-7bd9852ffde9"
      },
      "source": [
        "x_vals = np.arange(2000)\n",
        "plt.plot(x_vals,costs)"
      ],
      "execution_count": 236,
      "outputs": [
        {
          "output_type": "execute_result",
          "data": {
            "text/plain": [
              "[<matplotlib.lines.Line2D at 0x7f4256e30cd0>]"
            ]
          },
          "metadata": {
            "tags": []
          },
          "execution_count": 236
        },
        {
          "output_type": "display_data",
          "data": {
            "image/png": "[encoded data removed]",
            "text/plain": [
              "<Figure size 432x288 with 1 Axes>"
            ]
          },
          "metadata": {
            "tags": [],
            "needs_background": "light"
          }
        }
      ]
    },
    {
      "cell_type": "code",
      "metadata": {
        "colab": {
          "base_uri": "https://localhost:8080/"
        },
        "id": "yAYOSK4creaY",
        "outputId": "06905e14-4a3f-432d-a929-ad6b08bd4685"
      },
      "source": [
        "x = np.array([0,1,2])\n",
        "\n",
        "x.reshape(x.shape[0],1)\n",
        "x.shape\n",
        "# plt.plot(x, x**2+x+3)"
      ],
      "execution_count": 237,
      "outputs": [
        {
          "output_type": "execute_result",
          "data": {
            "text/plain": [
              "(3,)"
            ]
          },
          "metadata": {
            "tags": []
          },
          "execution_count": 237
        }
      ]
    },
    {
      "cell_type": "code",
      "metadata": {
        "colab": {
          "base_uri": "https://localhost:8080/"
        },
        "id": "SiCVpKSDrwYp",
        "outputId": "aedaae76-2111-411d-bd69-bf2848df467c"
      },
      "source": [
        "type(X_train)"
      ],
      "execution_count": 218,
      "outputs": [
        {
          "output_type": "execute_result",
          "data": {
            "text/plain": [
              "numpy.ndarray"
            ]
          },
          "metadata": {
            "tags": []
          },
          "execution_count": 218
        }
      ]
    },
    {
      "cell_type": "code",
      "metadata": {
        "colab": {
          "base_uri": "https://localhost:8080/"
        },
        "id": "bYzDju8jsQ9P",
        "outputId": "59fc8022-8ef9-4f71-8947-03128d9ae763"
      },
      "source": [
        "x_vals =  X_train*inverse_cache[0]+inverse_cache[1]\n",
        "x_train_vals = list(x_vals[0])\n",
        "x_train_vals\n",
        "x_vals"
      ],
      "execution_count": 238,
      "outputs": [
        {
          "output_type": "execute_result",
          "data": {
            "text/plain": [
              "array([[1.1, 1.3, 1.5, 2. , 2.2, 2.9, 3. , 3.2, 3.2, 3.7, 3.9, 4. , 4. ,\n",
              "        4.1, 4.5, 4.9, 5.1, 5.3, 5.9, 6. , 6.8, 7.1, 7.9, 8.2]])"
            ]
          },
          "metadata": {
            "tags": []
          },
          "execution_count": 238
        }
      ]
    },
    {
      "cell_type": "code",
      "metadata": {
        "colab": {
          "base_uri": "https://localhost:8080/"
        },
        "id": "8tFUlhtqsx5e",
        "outputId": "951b80de-c78f-4e81-b5d2-4e5068eb1280"
      },
      "source": [
        "y_vals = predict(X_train, params,inverse_cache)\n",
        "y_train_vals = list(y_vals[0])\n",
        "y_train_vals"
      ],
      "execution_count": 239,
      "outputs": [
        {
          "output_type": "execute_result",
          "data": {
            "text/plain": [
              "[34717.942087777184,\n",
              " 36728.49749863487,\n",
              " 38739.05290949256,\n",
              " 43765.44143663677,\n",
              " 45775.99684749446,\n",
              " 52812.94078549636,\n",
              " 53818.2184909252,\n",
              " 55828.773901782886,\n",
              " 55828.773901782886,\n",
              " 60855.1624289271,\n",
              " 62865.71783978478,\n",
              " 63870.99554521363,\n",
              " 63870.99554521363,\n",
              " 64876.273250642465,\n",
              " 68897.38407235785,\n",
              " 72918.49489407321,\n",
              " 74929.0503049309,\n",
              " 76939.60571578858,\n",
              " 82971.27194836165,\n",
              " 83976.54965379048,\n",
              " 92018.77129722123,\n",
              " 95034.60441350775,\n",
              " 103076.8260569385,\n",
              " 106092.65917322502]"
            ]
          },
          "metadata": {
            "tags": []
          },
          "execution_count": 239
        }
      ]
    },
    {
      "cell_type": "code",
      "metadata": {
        "colab": {
          "base_uri": "https://localhost:8080/"
        },
        "id": "4DjQJg2gtNTR",
        "outputId": "99240251-1d59-445f-ddca-e0fcb3add3b2"
      },
      "source": [
        "list(Y_train[0]*inverse_cache[2]+inverse_cache[3])"
      ],
      "execution_count": 240,
      "outputs": [
        {
          "output_type": "execute_result",
          "data": {
            "text/plain": [
              "[39343.0,\n",
              " 46205.0,\n",
              " 37731.0,\n",
              " 43525.0,\n",
              " 39891.0,\n",
              " 56642.0,\n",
              " 60150.0,\n",
              " 54445.0,\n",
              " 64445.0,\n",
              " 57189.0,\n",
              " 63218.0,\n",
              " 55794.0,\n",
              " 56957.0,\n",
              " 57081.0,\n",
              " 61111.0,\n",
              " 67938.0,\n",
              " 66029.0,\n",
              " 83088.0,\n",
              " 81363.0,\n",
              " 93940.0,\n",
              " 91738.0,\n",
              " 98273.0,\n",
              " 101302.0,\n",
              " 113812.0]"
            ]
          },
          "metadata": {
            "tags": []
          },
          "execution_count": 240
        }
      ]
    },
    {
      "cell_type": "code",
      "metadata": {
        "colab": {
          "base_uri": "https://localhost:8080/"
        },
        "id": "eVWInm4RtXES",
        "outputId": "43f38f57-ecc2-471f-97d2-cf0a5b1b812e"
      },
      "source": [
        "params"
      ],
      "execution_count": 241,
      "outputs": [
        {
          "output_type": "execute_result",
          "data": {
            "text/plain": [
              "{'W': array([[0.50034366]]), 'b': 1.0061396160665399e-17}"
            ]
          },
          "metadata": {
            "tags": []
          },
          "execution_count": 241
        }
      ]
    },
    {
      "cell_type": "code",
      "metadata": {
        "colab": {
          "base_uri": "https://localhost:8080/"
        },
        "id": "gtmlODOptwEn",
        "outputId": "82d26cff-0a2a-4fa2-bff7-7731291b6496"
      },
      "source": [
        "inverse_cache"
      ],
      "execution_count": 242,
      "outputs": [
        {
          "output_type": "execute_result",
          "data": {
            "text/plain": [
              "(-2.2704325636517844,\n",
              " 4.241666666666667,\n",
              " -45616.950864814484,\n",
              " 66300.41666666667)"
            ]
          },
          "metadata": {
            "tags": []
          },
          "execution_count": 242
        }
      ]
    },
    {
      "cell_type": "code",
      "metadata": {
        "colab": {
          "base_uri": "https://localhost:8080/",
          "height": 295
        },
        "id": "qm5RXu7Rs8wu",
        "outputId": "63b17cec-fa88-4b4a-c647-526db0162ce8"
      },
      "source": [
        "plt.scatter(x_train_vals,list(Y_train[0]*inverse_cache[2]+inverse_cache[3]), color='r')\n",
        "plt.plot(x_train_vals, y_train_vals, color='b')\n",
        "plt.title('Salary v/s Years of experience')\n",
        "plt.xlabel('years of experience')\n",
        "plt.ylabel('Salary')\n",
        "plt.show()"
      ],
      "execution_count": 259,
      "outputs": [
        {
          "output_type": "display_data",
          "data": {
            "image/png": "[encoded data removed]",
            "text/plain": [
              "<Figure size 432x288 with 1 Axes>"
            ]
          },
          "metadata": {
            "tags": [],
            "needs_background": "light"
          }
        }
      ]
    },
    {
      "cell_type": "code",
      "metadata": {
        "id": "WQ-w_khMb25j"
      },
      "source": [
        "def predict(X_test, params,inverse_cache):\n",
        "    Z = np.dot(params['W'].T,X_test)+params['b']\n",
        "    Y_hat = Z*inverse_cache[2] + inverse_cache[3]\n",
        "    return Y_hat"
      ],
      "execution_count": 244,
      "outputs": []
    },
    {
      "cell_type": "code",
      "metadata": {
        "colab": {
          "base_uri": "https://localhost:8080/"
        },
        "id": "pBPX3J2rbrVR",
        "outputId": "a24a870b-dfa4-4de3-c24d-465084428fba"
      },
      "source": [
        "predictions = predict(X_test, params, inverse_cache)\n",
        "predictions"
      ],
      "execution_count": 245,
      "outputs": [
        {
          "output_type": "execute_result",
          "data": {
            "text/plain": [
              "array([[111119.04770037, 114134.88081666, 119161.2693438 ,\n",
              "        120166.54704923, 127203.49098723, 129214.04639809]])"
            ]
          },
          "metadata": {
            "tags": []
          },
          "execution_count": 245
        }
      ]
    },
    {
      "cell_type": "code",
      "metadata": {
        "id": "Rh8SwWD_nort"
      },
      "source": [
        "Y_test = Y_test*inverse_cache[2]+inverse_cache[3]"
      ],
      "execution_count": 252,
      "outputs": []
    },
    {
      "cell_type": "code",
      "metadata": {
        "colab": {
          "base_uri": "https://localhost:8080/"
        },
        "id": "CF3qxlAgoFps",
        "outputId": "98924629-45ca-4c78-99d5-ceee94b2fc79"
      },
      "source": [
        "y_orig = []\n",
        "y_orig = [list(Y_test[0])]\n",
        "y_orig"
      ],
      "execution_count": 254,
      "outputs": [
        {
          "output_type": "execute_result",
          "data": {
            "text/plain": [
              "[[109431.0,\n",
              "  105582.00000000001,\n",
              "  116969.00000000001,\n",
              "  112635.0,\n",
              "  122391.0,\n",
              "  121872.0]]"
            ]
          },
          "metadata": {
            "tags": []
          },
          "execution_count": 254
        }
      ]
    },
    {
      "cell_type": "code",
      "metadata": {
        "colab": {
          "base_uri": "https://localhost:8080/"
        },
        "id": "Py2Gn_OHoRVi",
        "outputId": "df5a8c88-2b88-49f8-9598-199512a9f89c"
      },
      "source": [
        "y_pred = [list(predictions[0])]\n",
        "y_pred"
      ],
      "execution_count": 255,
      "outputs": [
        {
          "output_type": "execute_result",
          "data": {
            "text/plain": [
              "[[111119.04770036924,\n",
              "  114134.88081665576,\n",
              "  119161.2693438,\n",
              "  120166.54704922883,\n",
              "  127203.49098723073,\n",
              "  129214.04639808842]]"
            ]
          },
          "metadata": {
            "tags": []
          },
          "execution_count": 255
        }
      ]
    },
    {
      "cell_type": "code",
      "metadata": {
        "colab": {
          "base_uri": "https://localhost:8080/"
        },
        "id": "mI3T12sAnZl6",
        "outputId": "a010319f-d458-4de5-dcb9-d278a1cdcd20"
      },
      "source": [
        "print(np.concatenate((y_orig, y_pred),0))"
      ],
      "execution_count": 256,
      "outputs": [
        {
          "output_type": "stream",
          "text": [
            "[[109431.         105582.         116969.         112635.\n",
            "  122391.         121872.        ]\n",
            " [111119.04770037 114134.88081666 119161.2693438  120166.54704923\n",
            "  127203.49098723 129214.04639809]]\n"
          ],
          "name": "stdout"
        }
      ]
    },
    {
      "cell_type": "code",
      "metadata": {
        "id": "K-zZQ-WZpw1T"
      },
      "source": [
        "def single_pred(X,params=params,inverse_cache=inverse_cache):\n",
        "  X = (X-inverse_cache[1])/inverse_cache[0]\n",
        "  Z = params['W']*X+params['b']\n",
        "  Z = Z*inverse_cache[2] + inverse_cache[3]\n",
        "  return Z\n",
        "\n"
      ],
      "execution_count": 257,
      "outputs": []
    },
    {
      "cell_type": "code",
      "metadata": {
        "colab": {
          "base_uri": "https://localhost:8080/"
        },
        "id": "LHfq66hkqeak",
        "outputId": "2f4fc1a3-a817-406d-8a51-2a26e37e6fcd"
      },
      "source": [
        "single_pred(2)"
      ],
      "execution_count": 258,
      "outputs": [
        {
          "output_type": "execute_result",
          "data": {
            "text/plain": [
              "array([[43765.44143664]])"
            ]
          },
          "metadata": {
            "tags": []
          },
          "execution_count": 258
        }
      ]
    }
  ]
}