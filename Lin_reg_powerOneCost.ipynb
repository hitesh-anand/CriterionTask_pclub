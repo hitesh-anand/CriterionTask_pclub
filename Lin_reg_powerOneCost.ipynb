{
  "nbformat": 4,
  "nbformat_minor": 0,
  "metadata": {
    "colab": {
      "name": "Lin_reg_powerOneCost.ipynb",
      "provenance": []
    },
    "kernelspec": {
      "name": "python3",
      "display_name": "Python 3"
    },
    "language_info": {
      "name": "python"
    }
  },
  "cells": [
    {
      "cell_type": "code",
      "metadata": {
        "id": "XmW6RMyPwlLh"
      },
      "source": [
        "import numpy as np\n",
        "import matplotlib.pyplot as plt\n",
        "import pandas as pd"
      ],
      "execution_count": 1,
      "outputs": []
    },
    {
      "cell_type": "code",
      "metadata": {
        "id": "aj4HCYw7wz8a"
      },
      "source": [
        "dataset = pd.read_csv('Salary_Data.csv')\n",
        "X = dataset.iloc[:,:-1].values\n",
        "Y = dataset.iloc[:,-1].values"
      ],
      "execution_count": 2,
      "outputs": []
    },
    {
      "cell_type": "code",
      "metadata": {
        "colab": {
          "base_uri": "https://localhost:8080/"
        },
        "id": "wF_PzvkPw_0F",
        "outputId": "70379b05-3da2-4037-d31e-1e7581552b9e"
      },
      "source": [
        "X.shape"
      ],
      "execution_count": 3,
      "outputs": [
        {
          "output_type": "execute_result",
          "data": {
            "text/plain": [
              "(30, 1)"
            ]
          },
          "metadata": {
            "tags": []
          },
          "execution_count": 3
        }
      ]
    },
    {
      "cell_type": "code",
      "metadata": {
        "id": "WgjKdi5-xC1l"
      },
      "source": [
        "X = X.reshape(X.shape[1],X.shape[0])"
      ],
      "execution_count": 6,
      "outputs": []
    },
    {
      "cell_type": "code",
      "metadata": {
        "colab": {
          "base_uri": "https://localhost:8080/"
        },
        "id": "lNDp5jebxC3_",
        "outputId": "1f9f0764-e2d2-41ea-8888-7fd9d0977073"
      },
      "source": [
        "X.shape"
      ],
      "execution_count": 7,
      "outputs": [
        {
          "output_type": "execute_result",
          "data": {
            "text/plain": [
              "(1, 30)"
            ]
          },
          "metadata": {
            "tags": []
          },
          "execution_count": 7
        }
      ]
    },
    {
      "cell_type": "code",
      "metadata": {
        "colab": {
          "base_uri": "https://localhost:8080/"
        },
        "id": "8auNSV-FxC6R",
        "outputId": "5962d321-b911-43d6-fb01-431af36d89c6"
      },
      "source": [
        "Y.shape"
      ],
      "execution_count": 8,
      "outputs": [
        {
          "output_type": "execute_result",
          "data": {
            "text/plain": [
              "(30,)"
            ]
          },
          "metadata": {
            "tags": []
          },
          "execution_count": 8
        }
      ]
    },
    {
      "cell_type": "code",
      "metadata": {
        "colab": {
          "base_uri": "https://localhost:8080/"
        },
        "id": "yEgrUW8qxC8f",
        "outputId": "9dd12f3a-fed6-4201-c0f7-8a686ca848f2"
      },
      "source": [
        "Y = Y.reshape(1,Y.shape[0])\n",
        "Y.shape"
      ],
      "execution_count": 9,
      "outputs": [
        {
          "output_type": "execute_result",
          "data": {
            "text/plain": [
              "(1, 30)"
            ]
          },
          "metadata": {
            "tags": []
          },
          "execution_count": 9
        }
      ]
    },
    {
      "cell_type": "code",
      "metadata": {
        "colab": {
          "base_uri": "https://localhost:8080/"
        },
        "id": "YRF2WwvyxIae",
        "outputId": "f39f57ba-dc12-4f06-fda1-aa440eaf1ea6"
      },
      "source": [
        "X"
      ],
      "execution_count": 10,
      "outputs": [
        {
          "output_type": "execute_result",
          "data": {
            "text/plain": [
              "array([[ 1.1,  1.3,  1.5,  2. ,  2.2,  2.9,  3. ,  3.2,  3.2,  3.7,  3.9,\n",
              "         4. ,  4. ,  4.1,  4.5,  4.9,  5.1,  5.3,  5.9,  6. ,  6.8,  7.1,\n",
              "         7.9,  8.2,  8.7,  9. ,  9.5,  9.6, 10.3, 10.5]])"
            ]
          },
          "metadata": {
            "tags": []
          },
          "execution_count": 10
        }
      ]
    },
    {
      "cell_type": "code",
      "metadata": {
        "colab": {
          "base_uri": "https://localhost:8080/"
        },
        "id": "_D-PXT0SxKFO",
        "outputId": "f4ce683e-1b30-4953-ccde-350a66f2af15"
      },
      "source": [
        "Y"
      ],
      "execution_count": 11,
      "outputs": [
        {
          "output_type": "execute_result",
          "data": {
            "text/plain": [
              "array([[ 39343.,  46205.,  37731.,  43525.,  39891.,  56642.,  60150.,\n",
              "         54445.,  64445.,  57189.,  63218.,  55794.,  56957.,  57081.,\n",
              "         61111.,  67938.,  66029.,  83088.,  81363.,  93940.,  91738.,\n",
              "         98273., 101302., 113812., 109431., 105582., 116969., 112635.,\n",
              "        122391., 121872.]])"
            ]
          },
          "metadata": {
            "tags": []
          },
          "execution_count": 11
        }
      ]
    },
    {
      "cell_type": "code",
      "metadata": {
        "id": "S0YtBnY9xKI0"
      },
      "source": [
        "train_size = 0.8\n",
        "X_train = X[:,:int(0.8*X.shape[1])]\n",
        "X_test = X[:,int(0.8*X.shape[1]):]\n",
        "Y_train = Y[:,:int(0.8*Y.shape[1])]\n",
        "Y_test = Y[:,int(0.8*Y.shape[1]):]"
      ],
      "execution_count": 12,
      "outputs": []
    },
    {
      "cell_type": "code",
      "metadata": {
        "id": "zAhftuavxKMB"
      },
      "source": [
        "X_den = np.std(X_train)-np.mean(X_train)\n",
        "X_add = np.mean(X_train)\n",
        "Y_den = np.std(Y_train)-np.mean(Y_train)\n",
        "Y_add = np.mean(Y_train)\n",
        "inverse_cache = (X_den, X_add, Y_den, Y_add)"
      ],
      "execution_count": 13,
      "outputs": []
    },
    {
      "cell_type": "code",
      "metadata": {
        "colab": {
          "base_uri": "https://localhost:8080/"
        },
        "id": "6i_nS-77xKPJ",
        "outputId": "762d8133-b93f-46fe-db9f-dd0cda30ab18"
      },
      "source": [
        "X_train = (X_train-X_add)/X_den\n",
        "X_test =  (X_test-X_add)/X_den\n",
        "X_train"
      ],
      "execution_count": 14,
      "outputs": [
        {
          "output_type": "execute_result",
          "data": {
            "text/plain": [
              "array([[ 1.38373045,  1.29564151,  1.20755257,  0.98733021,  0.89924127,\n",
              "         0.59092998,  0.54688551,  0.45879657,  0.45879657,  0.23857422,\n",
              "         0.15048527,  0.1064408 ,  0.1064408 ,  0.06239633, -0.11378155,\n",
              "        -0.28995943, -0.37804837, -0.46613731, -0.73040414, -0.77444861,\n",
              "        -1.12680437, -1.25893778, -1.61129354, -1.74342696]])"
            ]
          },
          "metadata": {
            "tags": []
          },
          "execution_count": 14
        }
      ]
    },
    {
      "cell_type": "code",
      "metadata": {
        "colab": {
          "base_uri": "https://localhost:8080/"
        },
        "id": "oCdC32x9xKQd",
        "outputId": "565c7103-3ebe-42ed-b3cd-f0ff2b91fe42"
      },
      "source": [
        "Y_train = (Y_train-Y_add)/Y_den\n",
        "Y_test = (Y_test-Y_add)/Y_den\n",
        "Y_train"
      ],
      "execution_count": 15,
      "outputs": [
        {
          "output_type": "execute_result",
          "data": {
            "text/plain": [
              "array([[ 0.59095174,  0.44052521,  0.62628949,  0.4992753 ,  0.57893867,\n",
              "         0.21172868,  0.13482744,  0.2598906 ,  0.04067384,  0.19973752,\n",
              "         0.06757174,  0.23031826,  0.20482335,  0.20210506,  0.11376071,\n",
              "        -0.03589857,  0.00594991, -0.36801196, -0.33019707, -0.60590598,\n",
              "        -0.55763445, -0.7008926 , -0.76729336, -1.04153352]])"
            ]
          },
          "metadata": {
            "tags": []
          },
          "execution_count": 15
        }
      ]
    },
    {
      "cell_type": "code",
      "metadata": {
        "colab": {
          "base_uri": "https://localhost:8080/"
        },
        "id": "m3bs0031xKSq",
        "outputId": "2b07faa8-dc20-44a1-aaa8-7c9a850f7ee3"
      },
      "source": [
        "print(X_train.shape)\n",
        "print(X_test.shape)\n",
        "print(Y_train.shape)\n",
        "print(Y_test.shape)"
      ],
      "execution_count": 16,
      "outputs": [
        {
          "output_type": "stream",
          "text": [
            "(1, 24)\n",
            "(1, 6)\n",
            "(1, 24)\n",
            "(1, 6)\n"
          ],
          "name": "stdout"
        }
      ]
    },
    {
      "cell_type": "code",
      "metadata": {
        "id": "Ntu2lwZVxKUy"
      },
      "source": [
        "def forward_prop(X, params):\n",
        "    W = params['W']\n",
        "    b = params['b']\n",
        "    \n",
        "    Z = np.dot(W.T,X) + b\n",
        "    return Z"
      ],
      "execution_count": 17,
      "outputs": []
    },
    {
      "cell_type": "code",
      "metadata": {
        "id": "EsQAfpUexC_e"
      },
      "source": [
        "def backward_prop(X,Y, Z):\n",
        "    m = Y.shape[1]\n",
        "    dZ = Z-Y\n",
        "    dW = np.dot(dZ,X.T)/m\n",
        "    db = np.sum(dZ)/m\n",
        "    \n",
        "    grads = {}\n",
        "    grads['dW'] = dW\n",
        "    grads['db'] = db\n",
        "    \n",
        "    return grads"
      ],
      "execution_count": 18,
      "outputs": []
    },
    {
      "cell_type": "code",
      "metadata": {
        "id": "Ke4uY4T9xDCR"
      },
      "source": [
        "def compute_cost(Y,Z):\n",
        "    m = Y.shape[1]\n",
        "    cost = np.sum(np.abs(Z-Y))/m\n",
        "    return cost"
      ],
      "execution_count": 19,
      "outputs": []
    },
    {
      "cell_type": "code",
      "metadata": {
        "id": "x88VsnsPxjV4"
      },
      "source": [
        "def update_parameters(params, grads, alpha):\n",
        "    dW = grads['dW']\n",
        "    db = grads['db']\n",
        "    W = params['W']\n",
        "    b = params['b']\n",
        "    W = W - alpha * dW\n",
        "    b = b - alpha * db\n",
        "    params['W'] = W\n",
        "    params['b'] = b\n",
        "    \n",
        "    return params"
      ],
      "execution_count": 20,
      "outputs": []
    },
    {
      "cell_type": "code",
      "metadata": {
        "id": "FXB3h60sxlaX"
      },
      "source": [
        "def initialize_params(x, y):\n",
        "    n_x = x.shape[0]\n",
        "#     print(\"n_x = \", n_x)\n",
        "    m = y.shape[1]\n",
        "    W = np.random.randn(n_x,1)\n",
        "    b = 0.\n",
        "    params = {}\n",
        "    params['W'] = W\n",
        "    params['b'] = b\n",
        "    \n",
        "    return params"
      ],
      "execution_count": 21,
      "outputs": []
    },
    {
      "cell_type": "code",
      "metadata": {
        "id": "44g2VCj5xmJX"
      },
      "source": [
        "def train(X,Y,num_iter=1000, alpha=0.01):\n",
        "    params = initialize_params(X,Y)\n",
        "    costs = []\n",
        "    for i in range(num_iter):\n",
        "        \n",
        "       \n",
        "        y_hat = forward_prop(X, params)\n",
        "        cost = compute_cost(Y, y_hat)\n",
        "        costs.append(cost)\n",
        "        grads = backward_prop(X,Y, y_hat)\n",
        "        if(i%200==0):\n",
        "            print(cost)\n",
        "        params = update_parameters(params, grads, alpha)\n",
        "    return params,costs"
      ],
      "execution_count": 22,
      "outputs": []
    },
    {
      "cell_type": "code",
      "metadata": {
        "colab": {
          "base_uri": "https://localhost:8080/"
        },
        "id": "-s0rjyZkxmPP",
        "outputId": "8ebeb692-ccbe-4272-fe2c-37069f71e0fd"
      },
      "source": [
        "params = {}\n",
        "params,costs = train(X_train, Y_train, 2000, 0.01)\n",
        "params"
      ],
      "execution_count": 23,
      "outputs": [
        {
          "output_type": "stream",
          "text": [
            "1.2185198773932753\n",
            "0.2870396662410886\n",
            "0.12780206667506813\n",
            "0.11108511110899454\n",
            "0.11009560701933557\n",
            "0.11014373446026186\n",
            "0.11015433103641341\n",
            "0.11015666416329432\n",
            "0.11015717786516978\n",
            "0.1101572909707274\n"
          ],
          "name": "stdout"
        },
        {
          "output_type": "execute_result",
          "data": {
            "text/plain": [
              "{'W': array([[0.50034366]]), 'b': 1.0934540310240673e-17}"
            ]
          },
          "metadata": {
            "tags": []
          },
          "execution_count": 23
        }
      ]
    },
    {
      "cell_type": "code",
      "metadata": {
        "colab": {
          "base_uri": "https://localhost:8080/",
          "height": 281
        },
        "id": "l9pTzgyvxDEv",
        "outputId": "c38499c6-fb91-4b4f-f02b-df74620662ae"
      },
      "source": [
        "x_vals = np.arange(2000)\n",
        "plt.plot(x_vals,costs)"
      ],
      "execution_count": 24,
      "outputs": [
        {
          "output_type": "execute_result",
          "data": {
            "text/plain": [
              "[<matplotlib.lines.Line2D at 0x7f8d5e522510>]"
            ]
          },
          "metadata": {
            "tags": []
          },
          "execution_count": 24
        },
        {
          "output_type": "display_data",
          "data": {
            "image/png": "[encoded data removed]",
            "text/plain": [
              "<Figure size 432x288 with 1 Axes>"
            ]
          },
          "metadata": {
            "tags": [],
            "needs_background": "light"
          }
        }
      ]
    },
    {
      "cell_type": "code",
      "metadata": {
        "colab": {
          "base_uri": "https://localhost:8080/"
        },
        "id": "cUTq1jUYxDGQ",
        "outputId": "9f4b4fa2-fdaa-42aa-805d-8c2d7e4f2fce"
      },
      "source": [
        "type(X_train)"
      ],
      "execution_count": 26,
      "outputs": [
        {
          "output_type": "execute_result",
          "data": {
            "text/plain": [
              "numpy.ndarray"
            ]
          },
          "metadata": {
            "tags": []
          },
          "execution_count": 26
        }
      ]
    },
    {
      "cell_type": "code",
      "metadata": {
        "colab": {
          "base_uri": "https://localhost:8080/"
        },
        "id": "KBJaUKO_xDHe",
        "outputId": "ff6660d1-a6ff-4bcf-82f0-f9ae9578a367"
      },
      "source": [
        "x_vals =  X_train*inverse_cache[0]+inverse_cache[1]\n",
        "x_train_vals = list(x_vals[0])\n",
        "x_train_vals\n",
        "x_vals"
      ],
      "execution_count": 25,
      "outputs": [
        {
          "output_type": "execute_result",
          "data": {
            "text/plain": [
              "array([[1.1, 1.3, 1.5, 2. , 2.2, 2.9, 3. , 3.2, 3.2, 3.7, 3.9, 4. , 4. ,\n",
              "        4.1, 4.5, 4.9, 5.1, 5.3, 5.9, 6. , 6.8, 7.1, 7.9, 8.2]])"
            ]
          },
          "metadata": {
            "tags": []
          },
          "execution_count": 25
        }
      ]
    },
    {
      "cell_type": "code",
      "metadata": {
        "id": "XaIfINjDyUOp"
      },
      "source": [
        "def predict(X_test, params,inverse_cache):\n",
        "    Z = np.dot(params['W'].T,X_test)+params['b']\n",
        "    Y_hat = Z*inverse_cache[2] + inverse_cache[3]\n",
        "    return Y_hat"
      ],
      "execution_count": 28,
      "outputs": []
    },
    {
      "cell_type": "code",
      "metadata": {
        "colab": {
          "base_uri": "https://localhost:8080/"
        },
        "id": "G-nPU5DsxxEH",
        "outputId": "f75ce203-f801-48c4-fa23-e1ddeb9679b5"
      },
      "source": [
        "y_vals = predict(X_train, params,inverse_cache)\n",
        "y_train_vals = list(y_vals[0])\n",
        "y_train_vals"
      ],
      "execution_count": 29,
      "outputs": [
        {
          "output_type": "execute_result",
          "data": {
            "text/plain": [
              "[34717.94247825599,\n",
              " 36728.497864255594,\n",
              " 38739.05325025522,\n",
              " 43765.441715254274,\n",
              " 45775.99710125389,\n",
              " 52812.94095225255,\n",
              " 53818.21864525237,\n",
              " 55828.77403125199,\n",
              " 55828.77403125199,\n",
              " 60855.16249625103,\n",
              " 62865.71788225065,\n",
              " 63870.99557525046,\n",
              " 63870.99557525046,\n",
              " 64876.27326825027,\n",
              " 68897.38404024951,\n",
              " 72918.49481224875,\n",
              " 74929.05019824835,\n",
              " 76939.60558424798,\n",
              " 82971.27174224684,\n",
              " 83976.54943524665,\n",
              " 92018.77097924512,\n",
              " 95034.60405824456,\n",
              " 103076.82560224304,\n",
              " 106092.65868124245]"
            ]
          },
          "metadata": {
            "tags": []
          },
          "execution_count": 29
        }
      ]
    },
    {
      "cell_type": "code",
      "metadata": {
        "colab": {
          "base_uri": "https://localhost:8080/"
        },
        "id": "xk1tmw2rxzbX",
        "outputId": "b79f0ebd-a80c-4fa1-f4ad-19586f901b1e"
      },
      "source": [
        "list(Y_train[0]*inverse_cache[2]+inverse_cache[3])"
      ],
      "execution_count": 30,
      "outputs": [
        {
          "output_type": "execute_result",
          "data": {
            "text/plain": [
              "[39343.0,\n",
              " 46205.0,\n",
              " 37731.0,\n",
              " 43525.0,\n",
              " 39891.0,\n",
              " 56642.0,\n",
              " 60150.0,\n",
              " 54445.0,\n",
              " 64445.0,\n",
              " 57189.0,\n",
              " 63218.0,\n",
              " 55794.0,\n",
              " 56957.0,\n",
              " 57081.0,\n",
              " 61111.0,\n",
              " 67938.0,\n",
              " 66029.0,\n",
              " 83088.0,\n",
              " 81363.0,\n",
              " 93940.0,\n",
              " 91738.0,\n",
              " 98273.0,\n",
              " 101302.0,\n",
              " 113812.0]"
            ]
          },
          "metadata": {
            "tags": []
          },
          "execution_count": 30
        }
      ]
    },
    {
      "cell_type": "code",
      "metadata": {
        "colab": {
          "base_uri": "https://localhost:8080/"
        },
        "id": "IPP4xn1Nxz7A",
        "outputId": "8b02bdd2-40df-48ed-de1b-8196b7dd454b"
      },
      "source": [
        "params"
      ],
      "execution_count": 31,
      "outputs": [
        {
          "output_type": "execute_result",
          "data": {
            "text/plain": [
              "{'W': array([[0.50034366]]), 'b': 1.0934540310240673e-17}"
            ]
          },
          "metadata": {
            "tags": []
          },
          "execution_count": 31
        }
      ]
    },
    {
      "cell_type": "code",
      "metadata": {
        "colab": {
          "base_uri": "https://localhost:8080/"
        },
        "id": "cWSxV01Bxz9X",
        "outputId": "5aa7bb7c-47a4-4395-d414-ce005990f013"
      },
      "source": [
        "inverse_cache"
      ],
      "execution_count": 32,
      "outputs": [
        {
          "output_type": "execute_result",
          "data": {
            "text/plain": [
              "(-2.2704325636517844,\n",
              " 4.241666666666667,\n",
              " -45616.950864814484,\n",
              " 66300.41666666667)"
            ]
          },
          "metadata": {
            "tags": []
          },
          "execution_count": 32
        }
      ]
    },
    {
      "cell_type": "code",
      "metadata": {
        "colab": {
          "base_uri": "https://localhost:8080/",
          "height": 295
        },
        "id": "GM7Ip1k7xz_P",
        "outputId": "bfdfc88b-c5d6-44bd-bee4-c8da05753cc0"
      },
      "source": [
        "plt.scatter(x_train_vals,list(Y_train[0]*inverse_cache[2]+inverse_cache[3]), color='r')\n",
        "plt.plot(x_train_vals, y_train_vals, color='b')\n",
        "plt.title('Salary v/s Years of experience')\n",
        "plt.xlabel('years of experience')\n",
        "plt.ylabel('Salary')\n",
        "plt.show()"
      ],
      "execution_count": 33,
      "outputs": [
        {
          "output_type": "display_data",
          "data": {
            "image/png": "[encoded data removed]",
            "text/plain": [
              "<Figure size 432x288 with 1 Axes>"
            ]
          },
          "metadata": {
            "tags": [],
            "needs_background": "light"
          }
        }
      ]
    },
    {
      "cell_type": "code",
      "metadata": {
        "id": "icKTJ_XRx0Bm"
      },
      "source": [
        ""
      ],
      "execution_count": null,
      "outputs": []
    },
    {
      "cell_type": "code",
      "metadata": {
        "colab": {
          "base_uri": "https://localhost:8080/"
        },
        "id": "0Jn1U1Oqx8CC",
        "outputId": "ada3b274-7b1a-46e0-dd3c-f07b2d30c78f"
      },
      "source": [
        "predictions = predict(X_test, params, inverse_cache)\n",
        "predictions"
      ],
      "execution_count": 34,
      "outputs": [
        {
          "output_type": "execute_result",
          "data": {
            "text/plain": [
              "array([[111119.04714624, 114134.88022524, 119161.26869024,\n",
              "        120166.54638324, 127203.49023424, 129214.04562024]])"
            ]
          },
          "metadata": {
            "tags": []
          },
          "execution_count": 34
        }
      ]
    },
    {
      "cell_type": "code",
      "metadata": {
        "id": "e-0n6ucWx93v"
      },
      "source": [
        "Y_test = Y_test*inverse_cache[2]+inverse_cache[3]"
      ],
      "execution_count": 35,
      "outputs": []
    },
    {
      "cell_type": "code",
      "metadata": {
        "colab": {
          "base_uri": "https://localhost:8080/"
        },
        "id": "OPwtiLZUx96R",
        "outputId": "77d55f49-2805-4093-85f8-4325a91ce06c"
      },
      "source": [
        "y_orig = []\n",
        "y_orig = [list(Y_test[0])]\n",
        "y_orig"
      ],
      "execution_count": 36,
      "outputs": [
        {
          "output_type": "execute_result",
          "data": {
            "text/plain": [
              "[[109431.0, 105582.0, 116969.0, 112635.0, 122391.0, 121872.0]]"
            ]
          },
          "metadata": {
            "tags": []
          },
          "execution_count": 36
        }
      ]
    },
    {
      "cell_type": "code",
      "metadata": {
        "colab": {
          "base_uri": "https://localhost:8080/"
        },
        "id": "qZ3E7e5pyA-a",
        "outputId": "c9137ab9-5b82-493c-fd83-106bceede819"
      },
      "source": [
        "y_pred = [list(predictions[0])]\n",
        "y_pred"
      ],
      "execution_count": 37,
      "outputs": [
        {
          "output_type": "execute_result",
          "data": {
            "text/plain": [
              "[[111119.0471462415,\n",
              "  114134.88022524094,\n",
              "  119161.26869023999,\n",
              "  120166.54638323978,\n",
              "  127203.49023423847,\n",
              "  129214.04562023809]]"
            ]
          },
          "metadata": {
            "tags": []
          },
          "execution_count": 37
        }
      ]
    },
    {
      "cell_type": "code",
      "metadata": {
        "colab": {
          "base_uri": "https://localhost:8080/"
        },
        "id": "yTYqMuTVyCT_",
        "outputId": "ce43ea0e-0143-4ec7-b3dc-0f9a90b70c25"
      },
      "source": [
        "print(np.concatenate((y_orig, y_pred),0))"
      ],
      "execution_count": 38,
      "outputs": [
        {
          "output_type": "stream",
          "text": [
            "[[109431.         105582.         116969.         112635.\n",
            "  122391.         121872.        ]\n",
            " [111119.04714624 114134.88022524 119161.26869024 120166.54638324\n",
            "  127203.49023424 129214.04562024]]\n"
          ],
          "name": "stdout"
        }
      ]
    },
    {
      "cell_type": "code",
      "metadata": {
        "id": "frSyJKsryD4Q"
      },
      "source": [
        "def single_pred(X,params=params,inverse_cache=inverse_cache):\n",
        "  X = (X-inverse_cache[1])/inverse_cache[0]\n",
        "  Z = params['W']*X+params['b']\n",
        "  Z = Z*inverse_cache[2] + inverse_cache[3]\n",
        "  return Z"
      ],
      "execution_count": 39,
      "outputs": []
    },
    {
      "cell_type": "code",
      "metadata": {
        "colab": {
          "base_uri": "https://localhost:8080/"
        },
        "id": "R99eXqF4yFiR",
        "outputId": "525a04a7-78a8-44b3-cbfe-3b41b28b6354"
      },
      "source": [
        "single_pred(2)"
      ],
      "execution_count": 40,
      "outputs": [
        {
          "output_type": "execute_result",
          "data": {
            "text/plain": [
              "array([[43765.44171525]])"
            ]
          },
          "metadata": {
            "tags": []
          },
          "execution_count": 40
        }
      ]
    }
  ]
}