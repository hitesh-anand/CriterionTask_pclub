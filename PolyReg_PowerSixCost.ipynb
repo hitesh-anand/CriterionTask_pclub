{
  "nbformat": 4,
  "nbformat_minor": 0,
  "metadata": {
    "colab": {
      "name": "PolyReg_PowerSixCost.ipynb",
      "provenance": []
    },
    "kernelspec": {
      "name": "python3",
      "display_name": "Python 3"
    },
    "language_info": {
      "name": "python"
    }
  },
  "cells": [
    {
      "cell_type": "code",
      "metadata": {
        "id": "wbxXFvOga1sN"
      },
      "source": [
        "import numpy as np\n",
        "import math\n",
        "import matplotlib.pyplot as plt\n",
        "import pandas as pd"
      ],
      "execution_count": 93,
      "outputs": []
    },
    {
      "cell_type": "code",
      "metadata": {
        "id": "51a952lua7gR"
      },
      "source": [
        "Dataset = pd.read_csv('Position_Salaries.csv')\n",
        "X = Dataset.iloc[:,1:-1].values\n",
        "Y = Dataset.iloc[:,-1].values"
      ],
      "execution_count": 94,
      "outputs": []
    },
    {
      "cell_type": "code",
      "metadata": {
        "colab": {
          "base_uri": "https://localhost:8080/"
        },
        "id": "T9GjaVEvbCAT",
        "outputId": "45d39231-48a9-4179-e9e7-ade8e809f5a0"
      },
      "source": [
        "X.shape"
      ],
      "execution_count": 95,
      "outputs": [
        {
          "output_type": "execute_result",
          "data": {
            "text/plain": [
              "(10, 1)"
            ]
          },
          "metadata": {},
          "execution_count": 95
        }
      ]
    },
    {
      "cell_type": "code",
      "metadata": {
        "colab": {
          "base_uri": "https://localhost:8080/"
        },
        "id": "BkGT_l76bCCR",
        "outputId": "7d05db6b-1ad7-4cec-ddf3-c62f7f2c5c9d"
      },
      "source": [
        "Y.shape"
      ],
      "execution_count": 96,
      "outputs": [
        {
          "output_type": "execute_result",
          "data": {
            "text/plain": [
              "(10,)"
            ]
          },
          "metadata": {},
          "execution_count": 96
        }
      ]
    },
    {
      "cell_type": "code",
      "metadata": {
        "colab": {
          "base_uri": "https://localhost:8080/"
        },
        "id": "Z4ucbwa8bCEk",
        "outputId": "9effbbda-de13-4fae-ccd9-3cd971e775e4"
      },
      "source": [
        "X = X[:7,:]\n",
        "X"
      ],
      "execution_count": 97,
      "outputs": [
        {
          "output_type": "execute_result",
          "data": {
            "text/plain": [
              "array([[1],\n",
              "       [2],\n",
              "       [3],\n",
              "       [4],\n",
              "       [5],\n",
              "       [6],\n",
              "       [7]])"
            ]
          },
          "metadata": {},
          "execution_count": 97
        }
      ]
    },
    {
      "cell_type": "code",
      "metadata": {
        "colab": {
          "base_uri": "https://localhost:8080/"
        },
        "id": "HaCC69RfbCGj",
        "outputId": "c01a595d-1023-4fc0-e3de-f6d4ebbe34a6"
      },
      "source": [
        "Y = Y[:7]\n",
        "Y"
      ],
      "execution_count": 98,
      "outputs": [
        {
          "output_type": "execute_result",
          "data": {
            "text/plain": [
              "array([ 45000,  50000,  60000,  80000, 110000, 150000, 200000])"
            ]
          },
          "metadata": {},
          "execution_count": 98
        }
      ]
    },
    {
      "cell_type": "code",
      "metadata": {
        "id": "8fPnmlFzbCLN"
      },
      "source": [
        "class PolynomailRegression() :\n",
        "\n",
        "    def __init__( self, degree, learning_rate, iterations ) : \n",
        "        self.degree = degree\n",
        "        self.learning_rate = learning_rate        \n",
        "        self.iterations = iterations\n",
        "         \n",
        "\n",
        "     \n",
        "    def transform( self, X ) :\n",
        "        \n",
        "        X_poly = np.ones( ( self.m, 1 ) )\n",
        "        for j in range( self.degree + 1 ) :\n",
        "             \n",
        "            if j != 0 : \n",
        "                x_new = np.power( X, j )\n",
        "                X_poly = np.append( X_poly, x_new.reshape( -1, 1 ), axis = 1 )\n",
        " \n",
        "        return X_poly  \n",
        "     \n",
        "\n",
        "     \n",
        "    def normalize( self, X ) :\n",
        "        X[:, 1:] = ( X[:, 1:] - np.mean( X[:, 1:], axis = 0 ) ) / np.std( X[:, 1:], axis = 0 )\n",
        "        return X\n",
        "\n",
        "     \n",
        "    def fit( self, X, Y ) :\n",
        "         \n",
        "        self.X = X\n",
        "     \n",
        "        self.Y = Y\n",
        "     \n",
        "        self.m, self.n = self.X.shape\n",
        "     \n",
        "        self.W = np.random.randn( self.degree + 1 )*1000\n",
        "         \n",
        "        X_transform = self.transform( self.X )        \n",
        "        m = Y.shape[0]\n",
        "        X_normalize = self.normalize( X_transform )\n",
        "        for i in range( self.iterations ) : \n",
        "            h = self.predict( self.X )\n",
        "            cost = np.sum(np.power(np.abs(self.Y-h),7))/7\n",
        "            error = (h-self.Y)**6\n",
        "            if(np.max(np.abs(error))>10000000):\n",
        "              error = error*10000000/np.linalg.norm(error)\n",
        "            self.W = self.W - self.learning_rate * ( 1 / self.m ) * np.dot( X_normalize.T, error )\n",
        "         \n",
        "        return self\n",
        "     \n",
        "\n",
        "     \n",
        "    def predict( self, X ) :\n",
        "        X_poly = self.transform(X)\n",
        "        X_poly = self.normalize(X_poly)\n",
        "        return np.dot( X_poly, self.W )"
      ],
      "execution_count": 364,
      "outputs": []
    },
    {
      "cell_type": "code",
      "metadata": {
        "colab": {
          "base_uri": "https://localhost:8080/"
        },
        "id": "18lIYZlZbCMr",
        "outputId": "f1dfd430-4e80-47aa-9b2f-a9e6a5dda157"
      },
      "source": [
        " model = PolynomailRegression( degree = 2, learning_rate = 0.000001, iterations = 10000)\n",
        " model.fit( X, Y )"
      ],
      "execution_count": 367,
      "outputs": [
        {
          "output_type": "execute_result",
          "data": {
            "text/plain": [
              "<__main__.PolynomailRegression at 0x7f49743f4150>"
            ]
          },
          "metadata": {},
          "execution_count": 367
        }
      ]
    },
    {
      "cell_type": "code",
      "metadata": {
        "colab": {
          "base_uri": "https://localhost:8080/"
        },
        "id": "aCzUhYlgZ1D7",
        "outputId": "40f839ad-9179-41bd-d7a9-a35fd1601043"
      },
      "source": [
        "Y_pred = model.predict( X )\n",
        "Y_pred"
      ],
      "execution_count": 368,
      "outputs": [
        {
          "output_type": "execute_result",
          "data": {
            "text/plain": [
              "array([ 48585.87925135,  31791.1265819 ,  11852.45810866, -11230.12616838,\n",
              "       -37456.62624922, -66827.04213385, -99341.37382228])"
            ]
          },
          "metadata": {},
          "execution_count": 368
        }
      ]
    },
    {
      "cell_type": "code",
      "metadata": {
        "colab": {
          "base_uri": "https://localhost:8080/",
          "height": 295
        },
        "id": "_mun62fAbRkB",
        "outputId": "72ea263a-45cd-4303-d819-060a7c6c3d8f"
      },
      "source": [
        "plt.scatter( X, Y, color = 'red' )\n",
        "     \n",
        "plt.plot( X, Y_pred, color = 'blue' )\n",
        "     \n",
        "plt.title( 'X vs Y' )\n",
        "     \n",
        "plt.xlabel( 'X' )\n",
        "     \n",
        "plt.ylabel( 'Y' )\n",
        "     \n",
        "plt.show()"
      ],
      "execution_count": 372,
      "outputs": [
        {
          "output_type": "display_data",
          "data": {
            "image/png": "[encoded data removed]",
            "text/plain": [
              "<Figure size 432x288 with 1 Axes>"
            ]
          },
          "metadata": {
            "needs_background": "light"
          }
        }
      ]
    },
    {
      "cell_type": "code",
      "metadata": {
        "id": "prCJ37QrbRpb"
      },
      "source": [
        ""
      ],
      "execution_count": null,
      "outputs": []
    }
  ]
}