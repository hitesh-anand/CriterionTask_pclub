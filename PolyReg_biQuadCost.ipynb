{
  "nbformat": 4,
  "nbformat_minor": 0,
  "metadata": {
    "colab": {
      "name": "PolyReg_biQuadCost.ipynb",
      "provenance": []
    },
    "kernelspec": {
      "name": "python3",
      "display_name": "Python 3"
    },
    "language_info": {
      "name": "python"
    }
  },
  "cells": [
    {
      "cell_type": "code",
      "metadata": {
        "id": "z073wxICNWxr"
      },
      "source": [
        "import numpy as np\n",
        "import math\n",
        "import matplotlib.pyplot as plt\n",
        "import pandas as pd"
      ],
      "execution_count": 66,
      "outputs": []
    },
    {
      "cell_type": "code",
      "metadata": {
        "id": "1bfp4tfCNvsE"
      },
      "source": [
        "Dataset = pd.read_csv('Position_Salaries.csv')\n",
        "X = Dataset.iloc[:,1:-1].values\n",
        "Y = Dataset.iloc[:,-1].values"
      ],
      "execution_count": 67,
      "outputs": []
    },
    {
      "cell_type": "code",
      "metadata": {
        "colab": {
          "base_uri": "https://localhost:8080/"
        },
        "id": "mh4kanvoOBFD",
        "outputId": "13f1b588-dcfd-4858-95e2-9d4b213c7059"
      },
      "source": [
        "X.shape"
      ],
      "execution_count": 68,
      "outputs": [
        {
          "output_type": "execute_result",
          "data": {
            "text/plain": [
              "(10, 1)"
            ]
          },
          "metadata": {},
          "execution_count": 68
        }
      ]
    },
    {
      "cell_type": "code",
      "metadata": {
        "colab": {
          "base_uri": "https://localhost:8080/"
        },
        "id": "6X_yB4ifOCv4",
        "outputId": "029e2cae-9b29-4a02-8703-a99fe0cac4da"
      },
      "source": [
        "Y.shape"
      ],
      "execution_count": 69,
      "outputs": [
        {
          "output_type": "execute_result",
          "data": {
            "text/plain": [
              "(10,)"
            ]
          },
          "metadata": {},
          "execution_count": 69
        }
      ]
    },
    {
      "cell_type": "code",
      "metadata": {
        "colab": {
          "base_uri": "https://localhost:8080/"
        },
        "id": "y0wkni2vOPnR",
        "outputId": "de852447-fe71-4f0a-a5f7-1b11abd14b1c"
      },
      "source": [
        "X = X[:7,:]\n",
        "X"
      ],
      "execution_count": 165,
      "outputs": [
        {
          "output_type": "execute_result",
          "data": {
            "text/plain": [
              "array([[1],\n",
              "       [2],\n",
              "       [3],\n",
              "       [4],\n",
              "       [5],\n",
              "       [6],\n",
              "       [7]])"
            ]
          },
          "metadata": {},
          "execution_count": 165
        }
      ]
    },
    {
      "cell_type": "code",
      "metadata": {
        "colab": {
          "base_uri": "https://localhost:8080/"
        },
        "id": "LN8Nc9SUORNi",
        "outputId": "e41ebd83-b6d5-413e-c80c-7f5a5a79f0cb"
      },
      "source": [
        "Y = Y[:7]\n",
        "Y"
      ],
      "execution_count": 166,
      "outputs": [
        {
          "output_type": "execute_result",
          "data": {
            "text/plain": [
              "array([ 45000,  50000,  60000,  80000, 110000, 150000, 200000])"
            ]
          },
          "metadata": {},
          "execution_count": 166
        }
      ]
    },
    {
      "cell_type": "code",
      "metadata": {
        "id": "Po9Gf1cTOSSI"
      },
      "source": [
        "class PolynomailRegression() :\n",
        "\n",
        "    def __init__( self, degree, learning_rate, iterations ) : \n",
        "        self.degree = degree\n",
        "        self.learning_rate = learning_rate        \n",
        "        self.iterations = iterations\n",
        "         \n",
        "\n",
        "     \n",
        "    def transform( self, X ) :\n",
        "        \n",
        "        X_poly = np.ones( ( self.m, 1 ) )\n",
        "        for j in range( self.degree + 1 ) :\n",
        "             \n",
        "            if j != 0 : \n",
        "                x_new = np.power( X, j )\n",
        "                X_poly = np.append( X_poly, x_new.reshape( -1, 1 ), axis = 1 )\n",
        " \n",
        "        return X_poly  \n",
        "     \n",
        "\n",
        "     \n",
        "    def normalize( self, X ) :\n",
        "        X[:, 1:] = ( X[:, 1:] - np.mean( X[:, 1:], axis = 0 ) ) / np.std( X[:, 1:], axis = 0 )\n",
        "        return X\n",
        "\n",
        "     \n",
        "    def fit( self, X, Y ) :\n",
        "         \n",
        "        self.X = X\n",
        "     \n",
        "        self.Y = Y\n",
        "     \n",
        "        self.m, self.n = self.X.shape\n",
        "     \n",
        "        self.W = np.zeros( self.degree + 1 )\n",
        "         \n",
        "        X_transform = self.transform( self.X )        \n",
        "        m = Y.shape[0]\n",
        "        X_normalize = self.normalize( X_transform )\n",
        "        costs = []\n",
        "        for i in range( self.iterations ) : \n",
        "            h = self.predict( self.X )\n",
        "            error = (h-self.Y)**3\n",
        "            self.W = self.W - self.learning_rate * ( 1 / self.m ) * np.dot( X_normalize.T, error )\n",
        "         \n",
        "        return self\n",
        "     \n",
        "\n",
        "     \n",
        "    def predict( self, X ) :\n",
        "        X_poly = self.transform(X)\n",
        "        X_poly = self.normalize(X_poly)\n",
        "        return np.dot( X_poly, self.W )"
      ],
      "execution_count": 221,
      "outputs": []
    },
    {
      "cell_type": "code",
      "metadata": {
        "colab": {
          "base_uri": "https://localhost:8080/"
        },
        "id": "_AdsjCXtQHrh",
        "outputId": "7605c127-8100-445e-adb9-167b1c38751b"
      },
      "source": [
        " model = PolynomailRegression( degree = 2, learning_rate = 0.00000000001, iterations = 50000)\n",
        " model.fit( X, Y )"
      ],
      "execution_count": 222,
      "outputs": [
        {
          "output_type": "execute_result",
          "data": {
            "text/plain": [
              "<__main__.PolynomailRegression at 0x7f58beb17d50>"
            ]
          },
          "metadata": {},
          "execution_count": 222
        }
      ]
    },
    {
      "cell_type": "code",
      "metadata": {
        "id": "zfJaYJu_RAZC"
      },
      "source": [
        "Y_pred = model.predict( X )"
      ],
      "execution_count": 223,
      "outputs": []
    },
    {
      "cell_type": "code",
      "metadata": {
        "colab": {
          "base_uri": "https://localhost:8080/"
        },
        "id": "M-PHsxYqYbCp",
        "outputId": "3fb2bf35-3e7a-402c-81b4-6381fc81fa7d"
      },
      "source": [
        "model.W"
      ],
      "execution_count": 224,
      "outputs": [
        {
          "output_type": "execute_result",
          "data": {
            "text/plain": [
              "array([99648.23468317, -2200.00571379, 55213.25810131])"
            ]
          },
          "metadata": {},
          "execution_count": 224
        }
      ]
    },
    {
      "cell_type": "code",
      "metadata": {
        "colab": {
          "base_uri": "https://localhost:8080/"
        },
        "id": "gKN-aELJSL8K",
        "outputId": "0c2e7ca0-c8ae-428f-92db-339aa8cb631a"
      },
      "source": [
        "Y_pred"
      ],
      "execution_count": 225,
      "outputs": [
        {
          "output_type": "execute_result",
          "data": {
            "text/plain": [
              "array([ 38867.19915214,  47885.25589025,  63648.6856917 ,  86157.48855649,\n",
              "       115411.66448463, 151411.21347609, 194156.1355309 ])"
            ]
          },
          "metadata": {},
          "execution_count": 225
        }
      ]
    },
    {
      "cell_type": "code",
      "metadata": {
        "colab": {
          "base_uri": "https://localhost:8080/"
        },
        "id": "hFD2oWzKSLC7",
        "outputId": "8b23f2fb-7003-4184-f789-76a3277930b1"
      },
      "source": [
        "Y"
      ],
      "execution_count": 226,
      "outputs": [
        {
          "output_type": "execute_result",
          "data": {
            "text/plain": [
              "array([ 45000,  50000,  60000,  80000, 110000, 150000, 200000])"
            ]
          },
          "metadata": {},
          "execution_count": 226
        }
      ]
    },
    {
      "cell_type": "code",
      "metadata": {
        "colab": {
          "base_uri": "https://localhost:8080/",
          "height": 295
        },
        "id": "2wxYEc0pRDID",
        "outputId": "97fa5fbb-4fd7-4004-bef9-3f78a19601df"
      },
      "source": [
        "plt.scatter( X, Y, color = 'blue' )\n",
        "     \n",
        "plt.plot( X, Y_pred, color = 'orange' )\n",
        "     \n",
        "plt.title( 'X vs Y' )\n",
        "     \n",
        "plt.xlabel( 'X' )\n",
        "     \n",
        "plt.ylabel( 'Y' )\n",
        "     \n",
        "plt.show()"
      ],
      "execution_count": 227,
      "outputs": [
        {
          "output_type": "display_data",
          "data": {
            "image/png": "[encoded data removed]",
            "text/plain": [
              "<Figure size 432x288 with 1 Axes>"
            ]
          },
          "metadata": {
            "needs_background": "light"
          }
        }
      ]
    }
  ]
}